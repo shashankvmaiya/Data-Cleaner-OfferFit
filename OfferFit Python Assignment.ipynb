{
 "cells": [
  {
   "cell_type": "code",
   "execution_count": 56,
   "id": "4ae2143c",
   "metadata": {},
   "outputs": [],
   "source": [
    "from __future__ import annotations\n",
    "\n",
    "import numpy as np\n",
    "import pandas as pd\n",
    "\n",
    "from typing import Dict, Any, List"
   ]
  },
  {
   "cell_type": "code",
   "execution_count": 166,
   "id": "b21ffc49",
   "metadata": {},
   "outputs": [],
   "source": [
    "class DataCleaner:\n",
    "    \"\"\"\n",
    "    Transform a pandas df while keeping track of the history of transformations to\n",
    "    allow reverting back to earlier state.\n",
    "    \"\"\"\n",
    "    def __init__(self, df: pd.DataFrame):\n",
    "        self.current = df\n",
    "        self.history = [('Initial df', self.current.copy(deep=True))]\n",
    "        self.stack = [('init', None)]\n",
    "        \n",
    "    def adjust_dtype_main(self, types: Dict[str, Any]) -> None:\n",
    "        for c, t in types.items():\n",
    "            try:\n",
    "                self.current = self.current.astype({c:t})\n",
    "            except Exception:\n",
    "                print(\"Column '{0}' has data that cannot be converted to {1}. Skipping this column\".format(c, t))\n",
    "            \n",
    "\n",
    "    def adjust_dtype(self, types: Dict[str, Any]) -> None:\n",
    "        valid_types, prev_types = {}, {}\n",
    "        for t in types:\n",
    "            if t in self.current.columns:\n",
    "                prev_types[t] = self.current[t].dtype\n",
    "                valid_types[t] = types[t]\n",
    "            else:\n",
    "                print('{0} column not present in df. Type not adjusted'.format(t))\n",
    "        \n",
    "        self.adjust_dtype_main(valid_types)\n",
    "        self.history.append(('Adjusted dtype using {0}'.format(types), self.current.copy(deep=True)))\n",
    "        self.stack.append(('dtype', prev_types))\n",
    "\n",
    "    def impute_missing(self, columns: List[str]) -> None:\n",
    "        prev_nans = []\n",
    "        for c in columns:\n",
    "            if c in self.current.columns:\n",
    "                indices = self.current[self.current[c].isna()].index.tolist()\n",
    "                self.current[c].fillna(self.current[c].mean(), inplace=True)\n",
    "                prev_nans.append((c, indices))\n",
    "            else:\n",
    "                print('{0} column not present in df. Imputing not done for this column'.format(c))\n",
    "        \n",
    "        self.history.append(('Imputed missing in {0}'.format(columns), self.current.copy(deep=True)))\n",
    "        self.stack.append(('impute', prev_nans))\n",
    "\n",
    "    def revert(self, steps_back: int = 1) -> None:\n",
    "        ops, steps = [], 0\n",
    "        for i in range(steps_back):\n",
    "            if self.stack[-1][0]!='init':\n",
    "                op, arg = self.stack.pop()\n",
    "                if op=='dtype':\n",
    "                    ops.append(op)\n",
    "                    steps+=1\n",
    "                    self.adjust_dtype_main(arg)\n",
    "                elif op=='impute':\n",
    "                    ops.append(op)\n",
    "                    steps+=1\n",
    "                    for c, indices in arg:\n",
    "                        self.current.loc[self.current.index.isin(indices), c] = np.nan\n",
    "            else:\n",
    "                print('Reverted back to the original df. No further changes to revert')\n",
    "                break\n",
    "        self.history.append(('Reverted {0} steps & {1} operations'.format(steps, ops), self.current.copy(deep=True)))\n",
    "\n",
    "    def save(self, path: str) -> None:\n",
    "        self.current.to_pickle('{0}.pkl'.format(path))\n",
    "\n",
    "    @staticmethod\n",
    "    def load(path: str) -> DataCleaner:\n",
    "        df = pd.read_pickle('{0}.pkl'.format(path))\n",
    "        return DataCleaner(df)"
   ]
  },
  {
   "cell_type": "code",
   "execution_count": 167,
   "id": "eb367590",
   "metadata": {},
   "outputs": [
    {
     "name": "stdout",
     "output_type": "stream",
     "text": [
      "Current dataframe:\n",
      "   customer_id  amount            timestamp\n",
      "0           10    1.00  2020-10-08 11:32:01\n",
      "1           10    1.31  2020-10-08 13:45:00\n",
      "2           13   20.50  2020-10-07 05:10:30\n",
      "3           10    0.50  2020-10-08 12:30:00\n",
      "4           11    0.20  2020-10-07 01:29:33\n",
      "5           11    0.20  2020-10-08 13:45:00\n",
      "6           10     NaN  2020-10-09 02:05:21\n"
     ]
    }
   ],
   "source": [
    "transactions = pd.DataFrame(\n",
    "    {\n",
    "        \"customer_id\": [10, 10, 13, 10, 11, 11, 10],\n",
    "        \"amount\": [1.00, 1.31, 20.5, 0.5, 0.2, 0.2, np.nan],\n",
    "        \"timestamp\": [\n",
    "            \"2020-10-08 11:32:01\",\n",
    "            \"2020-10-08 13:45:00\",\n",
    "            \"2020-10-07 05:10:30\",\n",
    "            \"2020-10-08 12:30:00\",\n",
    "            \"2020-10-07 01:29:33\",\n",
    "            \"2020-10-08 13:45:00\",\n",
    "            \"2020-10-09 02:05:21\",\n",
    "        ]\n",
    "    }\n",
    ")\n",
    "\n",
    "transactions_dc = DataCleaner(transactions)\n",
    "\n",
    "print(f\"Current dataframe:\\n{transactions_dc.current}\")"
   ]
  },
  {
   "cell_type": "code",
   "execution_count": 168,
   "id": "4464b853",
   "metadata": {},
   "outputs": [
    {
     "name": "stdout",
     "output_type": "stream",
     "text": [
      "Current dtypes:\n",
      "customer_id      int64\n",
      "amount         float64\n",
      "timestamp       object\n",
      "dtype: object\n"
     ]
    }
   ],
   "source": [
    "print(f\"Current dtypes:\\n{transactions_dc.current.dtypes}\")"
   ]
  },
  {
   "cell_type": "code",
   "execution_count": 169,
   "id": "dfc96e45",
   "metadata": {},
   "outputs": [
    {
     "name": "stdout",
     "output_type": "stream",
     "text": [
      "Column 'amount' has some data that cannot be converted to <class 'numpy.int32'>. Skipping this column\n",
      "Changed dtypes to:\n",
      "customer_id             int64\n",
      "amount                float64\n",
      "timestamp      datetime64[ns]\n",
      "dtype: object\n"
     ]
    }
   ],
   "source": [
    "transactions_dc.adjust_dtype({\"timestamp\": np.datetime64, \"amount\": np.int32})\n",
    "\n",
    "print(f\"Changed dtypes to:\\n{transactions_dc.current.dtypes}\")"
   ]
  },
  {
   "cell_type": "code",
   "execution_count": 145,
   "id": "d84533f1",
   "metadata": {},
   "outputs": [
    {
     "name": "stdout",
     "output_type": "stream",
     "text": [
      "Imputed missing as overall mean:\n",
      "   customer_id     amount            timestamp\n",
      "0           10   1.000000  2020-10-08 11:32:01\n",
      "1           10   1.310000  2020-10-08 13:45:00\n",
      "2           13  20.500000  2020-10-07 05:10:30\n",
      "3           10   0.500000  2020-10-08 12:30:00\n",
      "4           11   0.200000  2020-10-07 01:29:33\n",
      "5           11   0.200000  2020-10-08 13:45:00\n",
      "6           10   3.951667  2020-10-09 02:05:21\n"
     ]
    }
   ],
   "source": [
    "transactions_dc.impute_missing(columns=[\"amount\"])\n",
    "\n",
    "print(f\"Imputed missing as overall mean:\\n{transactions_dc.current}\")"
   ]
  },
  {
   "cell_type": "code",
   "execution_count": 133,
   "id": "542bb004",
   "metadata": {},
   "outputs": [
    {
     "name": "stdout",
     "output_type": "stream",
     "text": [
      "History of changes:\n",
      "[('Initial df',    customer_id  amount            timestamp\n",
      "0           10    1.00  2020-10-08 11:32:01\n",
      "1           10    1.31  2020-10-08 13:45:00\n",
      "2           13   20.50  2020-10-07 05:10:30\n",
      "3           10    0.50  2020-10-08 12:30:00\n",
      "4           11    0.20  2020-10-07 01:29:33\n",
      "5           11    0.20  2020-10-08 13:45:00\n",
      "6           10     NaN  2020-10-09 02:05:21), (\"Adjusted dtype using {'timestamp': <class 'numpy.datetime64'>}\",    customer_id  amount           timestamp\n",
      "0           10    1.00 2020-10-08 11:32:01\n",
      "1           10    1.31 2020-10-08 13:45:00\n",
      "2           13   20.50 2020-10-07 05:10:30\n",
      "3           10    0.50 2020-10-08 12:30:00\n",
      "4           11    0.20 2020-10-07 01:29:33\n",
      "5           11    0.20 2020-10-08 13:45:00\n",
      "6           10     NaN 2020-10-09 02:05:21), (\"Imputed missing in ['amount']\",    customer_id     amount           timestamp\n",
      "0           10   1.000000 2020-10-08 11:32:01\n",
      "1           10   1.310000 2020-10-08 13:45:00\n",
      "2           13  20.500000 2020-10-07 05:10:30\n",
      "3           10   0.500000 2020-10-08 12:30:00\n",
      "4           11   0.200000 2020-10-07 01:29:33\n",
      "5           11   0.200000 2020-10-08 13:45:00\n",
      "6           10   3.951667 2020-10-09 02:05:21)]\n"
     ]
    }
   ],
   "source": [
    "print(f\"History of changes:\\n{transactions_dc.history}\")\n"
   ]
  },
  {
   "cell_type": "code",
   "execution_count": 134,
   "id": "edd205e1",
   "metadata": {},
   "outputs": [
    {
     "name": "stdout",
     "output_type": "stream",
     "text": [
      "Loaded DataCleaner current df:\n",
      "   customer_id     amount           timestamp\n",
      "0           10   1.000000 2020-10-08 11:32:01\n",
      "1           10   1.310000 2020-10-08 13:45:00\n",
      "2           13  20.500000 2020-10-07 05:10:30\n",
      "3           10   0.500000 2020-10-08 12:30:00\n",
      "4           11   0.200000 2020-10-07 01:29:33\n",
      "5           11   0.200000 2020-10-08 13:45:00\n",
      "6           10   3.951667 2020-10-09 02:05:21\n"
     ]
    }
   ],
   "source": [
    "transactions_dc.save(\"transactions\")\n",
    "loaded_dc = DataCleaner.load(\"transactions\")\n",
    "print(f\"Loaded DataCleaner current df:\\n{loaded_dc.current}\")"
   ]
  },
  {
   "cell_type": "code",
   "execution_count": 135,
   "id": "4b3063b1",
   "metadata": {},
   "outputs": [
    {
     "name": "stdout",
     "output_type": "stream",
     "text": [
      "Reverting missing value imputation:\n",
      "   customer_id  amount           timestamp\n",
      "0           10    1.00 2020-10-08 11:32:01\n",
      "1           10    1.31 2020-10-08 13:45:00\n",
      "2           13   20.50 2020-10-07 05:10:30\n",
      "3           10    0.50 2020-10-08 12:30:00\n",
      "4           11    0.20 2020-10-07 01:29:33\n",
      "5           11    0.20 2020-10-08 13:45:00\n",
      "6           10     NaN 2020-10-09 02:05:21\n"
     ]
    }
   ],
   "source": [
    "transactions_dc.revert()\n",
    "print(f\"Reverting missing value imputation:\\n{transactions_dc.current}\")"
   ]
  },
  {
   "cell_type": "code",
   "execution_count": 136,
   "id": "cbd3ec81",
   "metadata": {},
   "outputs": [
    {
     "name": "stdout",
     "output_type": "stream",
     "text": [
      "Reverting dtype change:\n",
      "customer_id      int64\n",
      "amount         float64\n",
      "timestamp       object\n",
      "dtype: object\n"
     ]
    }
   ],
   "source": [
    "transactions_dc.revert()\n",
    "print(f\"Reverting dtype change:\\n{transactions_dc.current.dtypes}\")"
   ]
  },
  {
   "cell_type": "code",
   "execution_count": null,
   "id": "1f840c58",
   "metadata": {},
   "outputs": [],
   "source": []
  },
  {
   "cell_type": "code",
   "execution_count": 137,
   "id": "207bebac",
   "metadata": {},
   "outputs": [
    {
     "name": "stdout",
     "output_type": "stream",
     "text": [
      "History of changes:\n",
      "[('Initial df',    customer_id  amount            timestamp\n",
      "0           10    1.00  2020-10-08 11:32:01\n",
      "1           10    1.31  2020-10-08 13:45:00\n",
      "2           13   20.50  2020-10-07 05:10:30\n",
      "3           10    0.50  2020-10-08 12:30:00\n",
      "4           11    0.20  2020-10-07 01:29:33\n",
      "5           11    0.20  2020-10-08 13:45:00\n",
      "6           10     NaN  2020-10-09 02:05:21), (\"Adjusted dtype using {'timestamp': <class 'numpy.datetime64'>}\",    customer_id  amount           timestamp\n",
      "0           10    1.00 2020-10-08 11:32:01\n",
      "1           10    1.31 2020-10-08 13:45:00\n",
      "2           13   20.50 2020-10-07 05:10:30\n",
      "3           10    0.50 2020-10-08 12:30:00\n",
      "4           11    0.20 2020-10-07 01:29:33\n",
      "5           11    0.20 2020-10-08 13:45:00\n",
      "6           10     NaN 2020-10-09 02:05:21), (\"Imputed missing in ['amount']\",    customer_id     amount           timestamp\n",
      "0           10   1.000000 2020-10-08 11:32:01\n",
      "1           10   1.310000 2020-10-08 13:45:00\n",
      "2           13  20.500000 2020-10-07 05:10:30\n",
      "3           10   0.500000 2020-10-08 12:30:00\n",
      "4           11   0.200000 2020-10-07 01:29:33\n",
      "5           11   0.200000 2020-10-08 13:45:00\n",
      "6           10   3.951667 2020-10-09 02:05:21), (\"Reverted 1 steps & ['impute'] operations\",    customer_id  amount           timestamp\n",
      "0           10    1.00 2020-10-08 11:32:01\n",
      "1           10    1.31 2020-10-08 13:45:00\n",
      "2           13   20.50 2020-10-07 05:10:30\n",
      "3           10    0.50 2020-10-08 12:30:00\n",
      "4           11    0.20 2020-10-07 01:29:33\n",
      "5           11    0.20 2020-10-08 13:45:00\n",
      "6           10     NaN 2020-10-09 02:05:21), (\"Reverted 1 steps & ['dtype'] operations\",    customer_id  amount            timestamp\n",
      "0           10    1.00  2020-10-08 11:32:01\n",
      "1           10    1.31  2020-10-08 13:45:00\n",
      "2           13   20.50  2020-10-07 05:10:30\n",
      "3           10    0.50  2020-10-08 12:30:00\n",
      "4           11    0.20  2020-10-07 01:29:33\n",
      "5           11    0.20  2020-10-08 13:45:00\n",
      "6           10     NaN  2020-10-09 02:05:21)]\n"
     ]
    }
   ],
   "source": [
    "print(f\"History of changes:\\n{transactions_dc.history}\")\n"
   ]
  },
  {
   "cell_type": "code",
   "execution_count": null,
   "id": "ce0c0d6c",
   "metadata": {},
   "outputs": [],
   "source": []
  },
  {
   "cell_type": "code",
   "execution_count": null,
   "id": "55f4b8dc",
   "metadata": {},
   "outputs": [],
   "source": []
  }
 ],
 "metadata": {
  "kernelspec": {
   "display_name": "Python 3 (ipykernel)",
   "language": "python",
   "name": "python3"
  },
  "language_info": {
   "codemirror_mode": {
    "name": "ipython",
    "version": 3
   },
   "file_extension": ".py",
   "mimetype": "text/x-python",
   "name": "python",
   "nbconvert_exporter": "python",
   "pygments_lexer": "ipython3",
   "version": "3.9.5"
  }
 },
 "nbformat": 4,
 "nbformat_minor": 5
}
